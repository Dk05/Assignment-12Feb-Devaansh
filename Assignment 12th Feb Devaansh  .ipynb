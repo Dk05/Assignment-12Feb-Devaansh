{
 "cells": [
  {
   "cell_type": "code",
   "execution_count": null,
   "id": "f711878a",
   "metadata": {},
   "outputs": [],
   "source": [
    "#ANS 1 :\n",
    "\n",
    "''' EXCEPTION is a condition which causes error in some line of code of a program causing abruptly \n",
    "    stop the execution of program.\n",
    "    \n",
    "    EXCEPTION IS OF DIFFERENT TYPE LIKE :- ARITHMETIC_EXCEPTION, FILENOTFOUND_EXCEPTION etc.\n",
    "    \n",
    "    SYNTAX error is an error in mispronouncing a reserved keyword or block of code provided by the\n",
    "    language itself in a program \n",
    "    \n",
    "    SYNTAX ERROR IS OF DIFFERENT TYPES ALSO LIKE :- LOGICAL SYNTAX ERRORS, RUNTIME SYNTAX ERORS '''"
   ]
  },
  {
   "cell_type": "code",
   "execution_count": 1,
   "id": "47f8f872",
   "metadata": {},
   "outputs": [
    {
     "name": "stdout",
     "output_type": "stream",
     "text": [
      "ENTER A : 12\n",
      "ENTER B : 0\n"
     ]
    },
    {
     "ename": "ZeroDivisionError",
     "evalue": "division by zero",
     "output_type": "error",
     "traceback": [
      "\u001b[1;31m---------------------------------------------------------------------------\u001b[0m",
      "\u001b[1;31mZeroDivisionError\u001b[0m                         Traceback (most recent call last)",
      "Cell \u001b[1;32mIn[1], line 9\u001b[0m\n\u001b[0;32m      7\u001b[0m a \u001b[38;5;241m=\u001b[39m \u001b[38;5;28mint\u001b[39m(\u001b[38;5;28minput\u001b[39m(\u001b[38;5;124m\"\u001b[39m\u001b[38;5;124mENTER A : \u001b[39m\u001b[38;5;124m\"\u001b[39m))\n\u001b[0;32m      8\u001b[0m b \u001b[38;5;241m=\u001b[39m \u001b[38;5;28mint\u001b[39m(\u001b[38;5;28minput\u001b[39m(\u001b[38;5;124m\"\u001b[39m\u001b[38;5;124mENTER B : \u001b[39m\u001b[38;5;124m\"\u001b[39m))\n\u001b[1;32m----> 9\u001b[0m c \u001b[38;5;241m=\u001b[39m \u001b[43ma\u001b[49m\u001b[38;5;241;43m/\u001b[39;49m\u001b[43mb\u001b[49m  \u001b[38;5;66;03m# zero dividing error\u001b[39;00m\n\u001b[0;32m     10\u001b[0m \u001b[38;5;28mprint\u001b[39m(\u001b[38;5;124m\"\u001b[39m\u001b[38;5;124mTHE DIVISION IS : \u001b[39m\u001b[38;5;124m\"\u001b[39m, c)\n\u001b[0;32m     11\u001b[0m d \u001b[38;5;241m=\u001b[39m a\u001b[38;5;241m+\u001b[39mb\n",
      "\u001b[1;31mZeroDivisionError\u001b[0m: division by zero"
     ]
    }
   ],
   "source": [
    "#ANS 2 :\n",
    "\n",
    "''' If an exception is not handled than it causes abruptly stopping of excecution of a program at \n",
    "    error spotting without continuing the error free part, in this case block of code containing \n",
    "    error free logics and functions will also not excecuted due to error in upper lines of code'''\n",
    "\n",
    "a = int(input(\"ENTER A : \"))\n",
    "b = int(input(\"ENTER B : \"))\n",
    "c = a/b  # zero dividing error\n",
    "print(\"THE DIVISION IS : \", c)\n",
    "d = a+b\n",
    "e = a-b\n",
    "\n",
    "# Will not excecuted due to an exception raised in c part.\n",
    "print(d)\n",
    "print(e)"
   ]
  },
  {
   "cell_type": "code",
   "execution_count": 3,
   "id": "31d425a8",
   "metadata": {},
   "outputs": [
    {
     "name": "stdout",
     "output_type": "stream",
     "text": [
      "ENTER A : 12\n",
      "ENTER B : 0\n",
      "THE ADDITION OF A and B IS :  12\n",
      "THE SUBTRACTION OF A and B IS :  12\n"
     ]
    }
   ],
   "source": [
    "#ANS 3 :\n",
    "\n",
    "''' \n",
    "    TRY block is used to test the program.\n",
    "    EXCEPT block is where an error is catched and handled.\n",
    "'''\n",
    "try:\n",
    "    a = int(input(\"ENTER A : \"))\n",
    "    b = int(input(\"ENTER B : \"))\n",
    "    c = a/b  # zero dividing error\n",
    "    print(\"THE DIVISION IS : \", c)\n",
    "except Exception as e:\n",
    "    d = a+b\n",
    "    e = a-b\n",
    "    print(\"THE ADDITION OF A and B IS : \", d)\n",
    "    print(\"THE SUBTRACTION OF A and B IS : \", e)\n"
   ]
  },
  {
   "cell_type": "code",
   "execution_count": 21,
   "id": "700e310c",
   "metadata": {},
   "outputs": [
    {
     "name": "stdout",
     "output_type": "stream",
     "text": [
      "========ARITHMETIC OPERATIONS=========\n",
      "\n",
      "Enter Number A: 90\n",
      "NUMBER A IS GOOD TO GO :  90\n",
      "\n",
      "\n",
      "Enter Number B: 76\n",
      "NUMBER A IS GOOD TO GO :  76\n",
      "\n",
      "\n",
      "=========THE DIVISION RESULT IS : ==========\n",
      "1.1842105263157894\n",
      "\n",
      "\n",
      "----Logic Operation Performed Successfully---- \n",
      "\n",
      "+++++++THIS IS PYTHON++++++\n"
     ]
    }
   ],
   "source": [
    "#ANS 4 :\n",
    "\n",
    "''' \n",
    "    TRY block is used to test the program.\n",
    "    ELSE is a condtion which will be excecuted only when TRY block will be excecuted successfully.\n",
    "    FINALLY is a necessary condtion which will be excecuted either exception raised or not. \n",
    "    RAISE is when a user want raise his/her custom exception which is not designed by system.\n",
    "'''\n",
    "\n",
    "\n",
    "class Validate (Exception):\n",
    "    def __init__ (self, msg):\n",
    "        self.msg = msg\n",
    "        \n",
    "def ValidateA (a):\n",
    "    if(a <= 0):\n",
    "        raise Validate(\"ARITHMETIC NUMBER CAN'T BE LESS THAN 0\")\n",
    "    elif(a >= 120):\n",
    "        raise Validate(\"ARITHMETIC NUMBER CAN'T BE GREATER THAN 120\")\n",
    "    else:\n",
    "        print(\"NUMBER A IS GOOD TO GO : \", a)\n",
    "        print(\"\\n\")\n",
    "        \n",
    "def ValidateB (b):\n",
    "    if(b <= 0):\n",
    "        raise \"ARITHMETIC NUMBER CAN'T BE LESS THAN 0\"\n",
    "    elif(b >= 120):\n",
    "        raise \"ARITHMETIC NUMBER CAN'T BE GREATER THAN 120\"\n",
    "    else:\n",
    "        print(\"NUMBER A IS GOOD TO GO : \", b)\n",
    "        print(\"\\n\")\n",
    "\n",
    "\n",
    "try:\n",
    "    print(\"========ARITHMETIC OPERATIONS=========\\n\")\n",
    "    a = int(input(\"Enter Number A: \"))\n",
    "    ValidateA(a)\n",
    "    b = int(input(\"Enter Number B: \"))\n",
    "    ValidateB(b)\n",
    "    c = a/b\n",
    "    print(\"=========THE DIVISION RESULT IS : ==========\")\n",
    "    print(c)\n",
    "    print(\"\\n\")\n",
    "    \n",
    "except Validate as e:\n",
    "    print(e)\n",
    "    d = a+b\n",
    "    print(\"--------------------------------------\")\n",
    "    print(\"=========THE ADDITION RESULT IS : ==========\", d)\n",
    "    print(d)\n",
    "    print(\"\\n\")\n",
    "    e = a-b\n",
    "    print(\"========THE SUBTRACTION RESULT IS : =========\", e)\n",
    "    print(e)\n",
    "    print(\"\\n\")\n",
    "    f = a*b\n",
    "    print(\"=======THE MULTIPLICATION RESULT IS : =======\", e)\n",
    "    print(f)\n",
    "    print(\"\\n\")\n",
    "    \n",
    "else:\n",
    "    print(\"----Logic Operation Performed Successfully---- \\n\")\n",
    "    \n",
    "finally:\n",
    "    print(\"+++++++THIS IS PYTHON++++++\")"
   ]
  },
  {
   "cell_type": "code",
   "execution_count": 19,
   "id": "115402c6",
   "metadata": {},
   "outputs": [
    {
     "name": "stdout",
     "output_type": "stream",
     "text": [
      "ENTER CONSTANT (K) VALUE : -21\n",
      "THE ENTERED CONSTANT VALUE DOES NOT EXISTS\n"
     ]
    }
   ],
   "source": [
    "#ANS 5 :\n",
    "\n",
    "''' CUSTOM EXCEPTIONS are user defined exceptions made by user and which is not already designed by the\n",
    "    system, sometimes for building large, complex software scripts a user want some validation checkpoints\n",
    "    which is not sured that all validations are defined so for some user specific validations need to be \n",
    "    defined as per user , so custom exception are there to solve this issue'''\n",
    "\n",
    "\n",
    "class validate (Exception):\n",
    "    def __init__(self, msg):\n",
    "        self.msg = msg\n",
    "        \n",
    "def validateA(a):\n",
    "    if(a <= 0 or a >= 100):\n",
    "        raise validate(\"THE ENTERED CONSTANT VALUE DOES NOT EXISTS\")\n",
    "    else:\n",
    "        print(\"THE CONSTANT VALUE TALEN IS : \\n\")\n",
    "        print(a)\n",
    "        \n",
    "try:\n",
    "    a = int(input(\"ENTER CONSTANT (K) VALUE : \"))\n",
    "    validateA(a)\n",
    "except validate as e:\n",
    "    print(e)"
   ]
  },
  {
   "cell_type": "code",
   "execution_count": 28,
   "id": "5a45bc61",
   "metadata": {},
   "outputs": [
    {
     "name": "stdout",
     "output_type": "stream",
     "text": [
      "ENTER TIME : 45.90\n",
      "THE ENTERED TIME IS INCORRECT\n"
     ]
    }
   ],
   "source": [
    "#ANS 6 :\n",
    "\n",
    "class validatetime (Exception):\n",
    "    def __init__(self, msg):\n",
    "        self.msg = msg\n",
    "        \n",
    "def validateT(a):\n",
    "    if(T <= 0 or a >= 24):\n",
    "        raise validate(\"THE ENTERED TIME IS INCORRECT\")\n",
    "    else:\n",
    "        print(\"THE TIME IS : \\n\")\n",
    "        print(T)\n",
    "        \n",
    "try:\n",
    "    T = float(input(\"ENTER TIME : \"))\n",
    "    validateT(T)\n",
    "except validate as e:\n",
    "    print(e)"
   ]
  }
 ],
 "metadata": {
  "kernelspec": {
   "display_name": "Python 3 (ipykernel)",
   "language": "python",
   "name": "python3"
  },
  "language_info": {
   "codemirror_mode": {
    "name": "ipython",
    "version": 3
   },
   "file_extension": ".py",
   "mimetype": "text/x-python",
   "name": "python",
   "nbconvert_exporter": "python",
   "pygments_lexer": "ipython3",
   "version": "3.11.3"
  }
 },
 "nbformat": 4,
 "nbformat_minor": 5
}
